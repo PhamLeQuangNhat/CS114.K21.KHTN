{
  "nbformat": 4,
  "nbformat_minor": 0,
  "metadata": {
    "colab": {
      "name": "Sarcasm.ipynb",
      "provenance": [],
      "collapsed_sections": [],
      "mount_file_id": "1nCACZrI2BxTeDjincyzrdZ3xCxlx27Pz",
      "authorship_tag": "ABX9TyOmcFbCoNRreYF8mii8uKML",
      "include_colab_link": true
    },
    "kernelspec": {
      "name": "python3",
      "display_name": "Python 3"
    },
    "accelerator": "GPU"
  },
  "cells": [
    {
      "cell_type": "markdown",
      "metadata": {
        "id": "view-in-github",
        "colab_type": "text"
      },
      "source": [
        "<a href=\"https://colab.research.google.com/github/PhamLeQuangNhat/CS114.K21.KHTN/blob/master/Sarcasm/Sarcasm.ipynb\" target=\"_parent\"><img src=\"https://colab.research.google.com/assets/colab-badge.svg\" alt=\"Open In Colab\"/></a>"
      ]
    },
    {
      "cell_type": "markdown",
      "metadata": {
        "id": "Bp78GyTzYPKA",
        "colab_type": "text"
      },
      "source": [
        "#**Thu thập dữ liệu mới**"
      ]
    },
    {
      "cell_type": "markdown",
      "metadata": {
        "id": "U8zdZ3ebYatI",
        "colab_type": "text"
      },
      "source": [
        "## **Dữ liệu mới từ Onion**"
      ]
    },
    {
      "cell_type": "code",
      "metadata": {
        "id": "PJQU08gnvirn",
        "colab_type": "code",
        "colab": {}
      },
      "source": [
        "import requests\n",
        "from datetime import datetime\n",
        "from bs4 import BeautifulSoup\n",
        "import csv\n",
        "\n",
        "brief_ids = [1592311200653, 1591726080182, 1591127280478, 1590584520209, \n",
        "             1589894280339, 1589294340828, 1588711020164, 1588080060229, \n",
        "             1587147720532, 1586546460312, 1586184540217, 1585581600531,\n",
        "             1582920840434, 1582639200695, 1582128720515, 1581532200479,\n",
        "             1581099360048, 1580744340055, 1580142900840, 1579637820343,\n",
        "             1579096620327, 1578410280620, 1576700820848, 1576184280994,\n",
        "             1575574260415, 1575036000486, 1574361720213, 1573762560848,\n",
        "             1573477200438, 1572900480129]"
      ],
      "execution_count": null,
      "outputs": []
    },
    {
      "cell_type": "code",
      "metadata": {
        "id": "iL2WigcAvlgi",
        "colab_type": "code",
        "colab": {
          "base_uri": "https://localhost:8080/",
          "height": 34
        },
        "outputId": "daba04ac-bdaf-40a8-d9ac-950264b9a6a3"
      },
      "source": [
        "csv_file = open('onion_headlines.csv', 'w')\n",
        "csv_writer = csv.writer(csv_file)\n",
        "csv_writer.writerow(['is_sarcastic', 'headline'])"
      ],
      "execution_count": null,
      "outputs": [
        {
          "output_type": "execute_result",
          "data": {
            "text/plain": [
              "23"
            ]
          },
          "metadata": {
            "tags": []
          },
          "execution_count": 12
        }
      ]
    },
    {
      "cell_type": "code",
      "metadata": {
        "id": "ep6horOsvnik",
        "colab_type": "code",
        "colab": {}
      },
      "source": [
        "def Onion_crawler(tag, ids, num_articles, label=1):\n",
        "  count = 0\n",
        "  for id in ids:\n",
        "    source = requests.get(\"https://www.theonion.com/c/{}?startTime={}\".format(tag,id)).text\n",
        "    soup = BeautifulSoup(source, 'lxml')\n",
        "    for article in soup.find_all('article'):\n",
        "      headline = article.h2.text\n",
        "      csv_writer.writerow([label, headline])\n",
        "      count += 1\n",
        "      if count == num_articles:\n",
        "        print(f\"Crawled {count} headlines from {tag} tag\")\n",
        "        return"
      ],
      "execution_count": null,
      "outputs": []
    },
    {
      "cell_type": "code",
      "metadata": {
        "id": "qveYGnhpvpgx",
        "colab_type": "code",
        "colab": {}
      },
      "source": [
        "Onion_crawler(\"news-in-brief\", brief_ids, num_articles=664, label=1)\n",
        "#Onion_crawler(\"news-in-photos\", photo_ids, num_articles=643, label=1)\n",
        "csv_file.close()"
      ],
      "execution_count": null,
      "outputs": []
    },
    {
      "cell_type": "code",
      "metadata": {
        "id": "oFIVB6MbvrfJ",
        "colab_type": "code",
        "colab": {}
      },
      "source": [
        "import pandas as pd "
      ],
      "execution_count": null,
      "outputs": []
    },
    {
      "cell_type": "code",
      "metadata": {
        "id": "_P8eu4cHvtUi",
        "colab_type": "code",
        "colab": {}
      },
      "source": [
        "onion_df = pd.read_csv(\"onion_headlines.csv\")"
      ],
      "execution_count": null,
      "outputs": []
    },
    {
      "cell_type": "code",
      "metadata": {
        "id": "I2bjw8fsvwhC",
        "colab_type": "code",
        "colab": {
          "base_uri": "https://localhost:8080/",
          "height": 34
        },
        "outputId": "0bed5ba8-4796-41dc-e1bd-11dc94fcd226"
      },
      "source": [
        "onion_df.shape"
      ],
      "execution_count": null,
      "outputs": [
        {
          "output_type": "execute_result",
          "data": {
            "text/plain": [
              "(600, 2)"
            ]
          },
          "metadata": {
            "tags": []
          },
          "execution_count": 17
        }
      ]
    },
    {
      "cell_type": "markdown",
      "metadata": {
        "id": "wFMb8a1XYqtq",
        "colab_type": "text"
      },
      "source": [
        "## **Dữ liệu mới từ Huffpost**"
      ]
    },
    {
      "cell_type": "markdown",
      "metadata": {
        "id": "091SewefY9Wg",
        "colab_type": "text"
      },
      "source": [
        "Ta lấy data từ API của HuffPost.\n",
        "\n",
        "- Đầu tiên gửi request lấy [500 bài báo](https://www.huffpost.com/api/department/news/cards?page=1&limit=500) đầu tiên từ API. Tại đây ta copy toàn bộ file json và lưu vào file huffpost_part1.json.\n",
        "-  Tiếp theo ta gửi request lấy 500 bài báo tiếp theo từ API. Tuy nhiên lần này API chỉ trả về 213 bài báo. HuffPost API chỉ cho ta request 713 bài báo gần đây. Ta copy file json và lưu vào file huffpost_part2.json.\n",
        "    chen hinh here\n",
        "\n"
      ]
    },
    {
      "cell_type": "code",
      "metadata": {
        "id": "MJZwrQbLmSdJ",
        "colab_type": "code",
        "colab": {
          "base_uri": "https://localhost:8080/",
          "height": 34
        },
        "outputId": "9387b325-dc13-4392-8dac-cfb6ebd706b2"
      },
      "source": [
        "!ls"
      ],
      "execution_count": null,
      "outputs": [
        {
          "output_type": "stream",
          "text": [
            "part1.json  part2.json\tSarcasmDatasetv2.json  Sarcasm.ipynb\n"
          ],
          "name": "stdout"
        }
      ]
    },
    {
      "cell_type": "code",
      "metadata": {
        "id": "STgfel0UbrBw",
        "colab_type": "code",
        "colab": {}
      },
      "source": [
        "import json"
      ],
      "execution_count": null,
      "outputs": []
    },
    {
      "cell_type": "code",
      "metadata": {
        "id": "HMX1uMDUl63a",
        "colab_type": "code",
        "colab": {}
      },
      "source": [
        "with open('part1.json') as f:\n",
        "    part1 = json.load(f)\n",
        "\n",
        "#with open('huffpost_part2.json') as f:\n",
        "#    part2 = json.load(f)\n",
        "\n",
        "csv_file = open('huffpost_headlines.csv', 'w')\n",
        "csv_writer = csv.writer(csv_file)\n",
        "csv_writer.writerow(['is_sarcastic', 'headline'])\n",
        "\n",
        "for article in part1[\"cards\"]:\n",
        "  headline = article[\"headlines\"][0][\"text\"]\n",
        "  csv_writer.writerow([0, headline])\n",
        "    \n",
        "#for article in part2[\"cards\"]:\n",
        "#  headline = article[\"headlines\"][0][\"text\"]\n",
        "#  csv_writer.writerow([0, headline])\n",
        "\n",
        "csv_file.close()"
      ],
      "execution_count": null,
      "outputs": []
    },
    {
      "cell_type": "code",
      "metadata": {
        "id": "q9p3NoBSoHth",
        "colab_type": "code",
        "colab": {
          "base_uri": "https://localhost:8080/",
          "height": 206
        },
        "outputId": "725652d7-15ae-400f-dadf-894326070bce"
      },
      "source": [
        " ??huffpost_df = pd.read_csv(\"huffpost_headlines.csv\")\n",
        "huffpost_df.head()"
      ],
      "execution_count": null,
      "outputs": [
        {
          "output_type": "execute_result",
          "data": {
            "text/html": [
              "<div>\n",
              "<style scoped>\n",
              "    .dataframe tbody tr th:only-of-type {\n",
              "        vertical-align: middle;\n",
              "    }\n",
              "\n",
              "    .dataframe tbody tr th {\n",
              "        vertical-align: top;\n",
              "    }\n",
              "\n",
              "    .dataframe thead th {\n",
              "        text-align: right;\n",
              "    }\n",
              "</style>\n",
              "<table border=\"1\" class=\"dataframe\">\n",
              "  <thead>\n",
              "    <tr style=\"text-align: right;\">\n",
              "      <th></th>\n",
              "      <th>is_sarcastic</th>\n",
              "      <th>headline</th>\n",
              "    </tr>\n",
              "  </thead>\n",
              "  <tbody>\n",
              "    <tr>\n",
              "      <th>0</th>\n",
              "      <td>0</td>\n",
              "      <td>Jamaal Bowman Ahead With Results Too Close To ...</td>\n",
              "    </tr>\n",
              "    <tr>\n",
              "      <th>1</th>\n",
              "      <td>0</td>\n",
              "      <td>Woman Who Deliberately Coughed In Baby's Face ...</td>\n",
              "    </tr>\n",
              "    <tr>\n",
              "      <th>2</th>\n",
              "      <td>0</td>\n",
              "      <td>Trump Spends Rally Downplaying Coronavirus And...</td>\n",
              "    </tr>\n",
              "    <tr>\n",
              "      <th>3</th>\n",
              "      <td>0</td>\n",
              "      <td>Dr. Cameron Webb Wins Democratic Nomination Fo...</td>\n",
              "    </tr>\n",
              "    <tr>\n",
              "      <th>4</th>\n",
              "      <td>0</td>\n",
              "      <td>First Patient To Receive Gene Editing Treatmen...</td>\n",
              "    </tr>\n",
              "  </tbody>\n",
              "</table>\n",
              "</div>"
            ],
            "text/plain": [
              "   is_sarcastic                                           headline\n",
              "0             0  Jamaal Bowman Ahead With Results Too Close To ...\n",
              "1             0  Woman Who Deliberately Coughed In Baby's Face ...\n",
              "2             0  Trump Spends Rally Downplaying Coronavirus And...\n",
              "3             0  Dr. Cameron Webb Wins Democratic Nomination Fo...\n",
              "4             0  First Patient To Receive Gene Editing Treatmen..."
            ]
          },
          "metadata": {
            "tags": []
          },
          "execution_count": 27
        }
      ]
    }
  ]
}